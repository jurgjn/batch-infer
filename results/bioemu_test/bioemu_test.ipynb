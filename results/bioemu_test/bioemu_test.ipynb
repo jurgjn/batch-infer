{
 "cells": [
  {
   "cell_type": "code",
   "execution_count": 15,
   "id": "e14fe1da",
   "metadata": {
    "vscode": {
     "languageId": "shellscript"
    }
   },
   "outputs": [
    {
     "name": "stdout",
     "output_type": "stream",
     "text": [
      "Submitted batch job 37065304\n"
     ]
    }
   ],
   "source": [
    "sbatch <<EOF\n",
    "#!/usr/bin/env bash\n",
    "#SBATCH --job-name=bioemu-test\n",
    "#SBATCH --time=04:00:00\n",
    "#SBATCH --ntasks-per-node=8\n",
    "#SBATCH --mem-per-cpu=8G\n",
    "#SBATCH --gpus=rtx_4090:1\n",
    "#SBATCH --gres=gpumem:24g\n",
    "#SBATCH --output=bioemu-test.txt\n",
    "source \\$HOME/.bashrc\n",
    "module load stack/.2024-06-silent gcc/12.2.0 cuda/12.8.0 eth_proxy\n",
    "singularity run --nv --writable \\\n",
    "    /cluster/project/beltrao/jjaenes/25.06.03_batch-infer/software/bioemu/bioemu-1.1.0 \\\n",
    "    -m bioemu.sample --sequence GYDPETGTWG --num_samples 10 --output_dir /test-chignolin\n",
    "myjobs -j \\$SLURM_JOB_ID\n",
    "EOF"
   ]
  },
  {
   "cell_type": "code",
   "execution_count": 16,
   "id": "edba6071",
   "metadata": {
    "vscode": {
     "languageId": "shellscript"
    }
   },
   "outputs": [
    {
     "ename": "",
     "evalue": "1",
     "output_type": "error",
     "traceback": []
    }
   ],
   "source": [
    "my_squeue | grep bioemu"
   ]
  },
  {
   "cell_type": "code",
   "execution_count": 2,
   "id": "e0b85014",
   "metadata": {
    "vscode": {
     "languageId": "shellscript"
    }
   },
   "outputs": [
    {
     "name": "stdout",
     "output_type": "stream",
     "text": [
      "Computing igso3_expansion: 100%|██████████| 1000/1000 [00:01<00:00, 544.21it/s]\n",
      "INFO:bioemu.so3_sde:Data saved to /cluster/home/jjaenes/sampling_so3_cache/cache_igso3_s0.020-2.330-1000_l2000_o2000-3.npz\n",
      "INFO:bioemu.so3_sde:Data saved to /cluster/home/jjaenes/sampling_so3_cache/cache_uso3_s0.020-2.330-1000_o2000-3.npz\n",
      "Computing igso3_expansion: 100%|█████████| 1000/1000 [00:00<00:00, 2082.57it/s]\n",
      "Computing dlog_igso3_expansion: 100%|█████| 1000/1000 [00:01<00:00, 831.08it/s]\n",
      "INFO:bioemu.so3_sde:Data saved to /cluster/home/jjaenes/sampling_so3_cache/cache_score-scaling_s0.020-2.330-1000_l2001_o2000-3.npz\n",
      "INFO:__main__:Sampling 10 structures for sequence of length 10 residues...\n",
      "INFO:__main__:Using batch size 10\n",
      "INFO:__main__:Found 10 previous samples in /test-chignolin.\n",
      "Sampling batches...: 0it [00:00, ?it/s]\n",
      "INFO:__main__:Converting samples to .pdb and .xtc...\n",
      "INFO:bioemu.convert_chemgraph:Filtering samples ...\n",
      "INFO:bioemu.convert_chemgraph:Filtered 10 samples down to 8 based on structure criteria. Filtering can be disabled with `--filter_samples=False`.\n",
      "INFO:__main__:Completed. Your samples are in /test-chignolin.\n",
      "Job information\n",
      " Job ID                          : 37065304\n",
      " Job name                        : bioemu-test\n",
      " Status                          : RUNNING\n",
      " Running on node                 : eu-g6-057\n",
      " User                            : jjaenes\n",
      " Shareholder group               : es_biol\n",
      " Slurm partition (queue)         : gpuhe.4h\n",
      " Command                         : sbatch\n",
      " Working directory               : /cluster/project/beltrao/jjaenes/25.06.03_batch-infer/results/bioemu_test\n",
      "Requested resources\n",
      " Requested runtime               : 04:00:00\n",
      " Requested cores (total)         : 8\n",
      " Requested nodes                 : 1\n",
      " Requested memory (total)        : 65536 MiB\n",
      "Job history\n",
      " Submitted at                    : 2025-07-11T12:05:59\n",
      " Started at                      : 2025-07-11T12:06:04\n",
      " Queue waiting time              : 5 s \n",
      "Resource usage\n",
      " Wall-clock                      : 00:00:27\n",
      " Total CPU time                  : 00:00:09\n",
      " CPU utilization                 : 4.16%\n",
      " Total resident memory           : 757.62 MiB\n",
      " Resident memory utilization     : 1.15%\n",
      "\n"
     ]
    }
   ],
   "source": [
    "tail -n 40 bioemu-test.txt"
   ]
  }
 ],
 "metadata": {
  "kernelspec": {
   "display_name": "Bash",
   "language": "bash",
   "name": "bash"
  },
  "language_info": {
   "codemirror_mode": "shell",
   "file_extension": ".sh",
   "mimetype": "text/x-sh",
   "name": "bash"
  }
 },
 "nbformat": 4,
 "nbformat_minor": 5
}

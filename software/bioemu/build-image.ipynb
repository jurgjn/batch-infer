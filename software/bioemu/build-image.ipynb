{
 "cells": [
  {
   "cell_type": "code",
   "execution_count": null,
   "metadata": {
    "vscode": {
     "languageId": "shellscript"
    }
   },
   "outputs": [
    {
     "name": "stdout",
     "output_type": "stream",
     "text": [
      "Submitted batch job 37063713\n"
     ]
    }
   ],
   "source": [
    "# Convert Dockerfile with `spython recipe Dockerfile > Singularity.def`\n",
    "# --sandbox solves 'No space left on device'\n",
    "sbatch <<EOF\n",
    "#!/usr/bin/env bash\n",
    "#SBATCH --job-name=bioemu-build\n",
    "#SBATCH --time=04:00:00\n",
    "#SBATCH --ntasks-per-node=8\n",
    "#SBATCH --mem-per-cpu=8G\n",
    "#SBATCH --gpus=rtx_4090:1\n",
    "#SBATCH --gres=gpumem:24g\n",
    "#SBATCH --output=build-image.txt\n",
    "source \\$HOME/.bashrc\n",
    "module load stack/.2024-06-silent gcc/12.2.0 cuda/12.8.0 eth_proxy\n",
    "singularity build --nv --sandbox bioemu-1.1.0/ Singularity.def\n",
    "myjobs -j \\$SLURM_JOB_ID\n",
    "EOF"
   ]
  },
  {
   "cell_type": "code",
   "execution_count": 7,
   "metadata": {
    "vscode": {
     "languageId": "shellscript"
    }
   },
   "outputs": [
    {
     "name": "stdout",
     "output_type": "stream",
     "text": [
      "37063713  gpuhe.4h     bioemu-build                                                  RUNNING      6:39     4:00:00  eu-g6-015\n"
     ]
    }
   ],
   "source": [
    "my_squeue | grep bioemu"
   ]
  },
  {
   "cell_type": "code",
   "execution_count": 9,
   "metadata": {
    "vscode": {
     "languageId": "shellscript"
    }
   },
   "outputs": [
    {
     "name": "stdout",
     "output_type": "stream",
     "text": [
      "INFO:__main__:Found 0 previous samples in /test-chignolin.\n",
      "Sampling batches...:   0%|          | 0/1 [00:00<?, ?it/s]INFO:__main__:Sampling seed=0\n",
      "INFO:bioemu.get_embeds:Colabfold not present under /root/.bioemu_colabfold. Installing...\n",
      "INFO:bioemu.get_embeds:Install log saved in /root/.bioemu_colabfold/install_log.txt.\n",
      "Sampling batches...: 100%|██████████| 1/1 [10:32<00:00, 632.54s/it]\n",
      "INFO:__main__:Converting samples to .pdb and .xtc...\n",
      "INFO:bioemu.convert_chemgraph:Filtering samples ...\n",
      "INFO:bioemu.convert_chemgraph:Filtered 10 samples down to 8 based on structure criteria. Filtering can be disabled with `--filter_samples=False`.\n",
      "INFO:__main__:Completed. Your samples are in /test-chignolin.\n",
      "INFO:    Adding environment to container\n",
      "INFO:    Adding startscript\n",
      "INFO:    Adding runscript\n",
      "INFO:    Creating sandbox directory...\n",
      "INFO:    Build complete: bioemu-1.1.0/\n",
      "Job information\n",
      " Job ID                          : 37063713\n",
      " Job name                        : bioemu-build\n",
      " Status                          : RUNNING\n",
      " Running on node                 : eu-g6-015\n",
      " User                            : jjaenes\n",
      " Shareholder group               : es_biol\n",
      " Slurm partition (queue)         : gpuhe.4h\n",
      " Command                         : sbatch\n",
      " Working directory               : /cluster/project/beltrao/jjaenes/25.06.03_batch-infer/software/bioemu\n",
      "Requested resources\n",
      " Requested runtime               : 04:00:00\n",
      " Requested cores (total)         : 8\n",
      " Requested nodes                 : 1\n",
      " Requested memory (total)        : 65536 MiB\n",
      "Job history\n",
      " Submitted at                    : 2025-07-11T11:46:42\n",
      " Started at                      : 2025-07-11T11:46:49\n",
      " Queue waiting time              : 7 s \n",
      "Resource usage\n",
      " Wall-clock                      : 00:14:39\n",
      " Total CPU time                  : 00:11:14\n",
      " CPU utilization                 : 9.58%\n",
      " Total resident memory           : 15377.08 MiB\n",
      " Resident memory utilization     : 23.46%\n",
      "\n"
     ]
    }
   ],
   "source": [
    "tail -n 40 build-image.txt"
   ]
  },
  {
   "cell_type": "code",
   "execution_count": null,
   "metadata": {
    "vscode": {
     "languageId": "shellscript"
    }
   },
   "outputs": [],
   "source": []
  }
 ],
 "metadata": {
  "kernelspec": {
   "display_name": "Bash",
   "language": "bash",
   "name": "bash"
  },
  "language_info": {
   "codemirror_mode": "shell",
   "file_extension": ".sh",
   "mimetype": "text/x-sh",
   "name": "bash"
  }
 },
 "nbformat": 4,
 "nbformat_minor": 2
}

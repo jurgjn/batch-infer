{
 "cells": [
  {
   "cell_type": "code",
   "execution_count": null,
   "metadata": {
    "vscode": {
     "languageId": "shellscript"
    }
   },
   "outputs": [],
   "source": [
    "BIOEMU_VERSION='1.1.0'\n",
    "docker buildx build --platform=linux/amd64 --progress plain -t bioemu-$BIOEMU_VERSION --build-arg BIOEMU_VERSION=\"$BIOEMU_VERSION\" ."
   ]
  },
  {
   "cell_type": "code",
   "execution_count": null,
   "metadata": {
    "vscode": {
     "languageId": "shellscript"
    }
   },
   "outputs": [],
   "source": [
    "docker image ls | grep bioemu-${BIOEMU_VERSION}"
   ]
  },
  {
   "cell_type": "code",
   "execution_count": null,
   "metadata": {
    "vscode": {
     "languageId": "shellscript"
    }
   },
   "outputs": [],
   "source": [
    "docker container cp bioemu-${BIOEMU_VERSION}:/test-chigolin ."
   ]
  },
  {
   "cell_type": "code",
   "execution_count": null,
   "metadata": {
    "vscode": {
     "languageId": "shellscript"
    }
   },
   "outputs": [],
   "source": [
    "docker run bioemu-${BIOEMU_VERSION} -m bioemu.sample --sequence GYDPETGTWG --num_samples 10 --output_dir ./test-chignolin-entrypoint"
   ]
  },
  {
   "cell_type": "code",
   "execution_count": null,
   "metadata": {
    "vscode": {
     "languageId": "shellscript"
    }
   },
   "outputs": [],
   "source": [
    "mkdir -p images\n",
    "docker save 82a2dd581b2c -o images/bioemu-${BIOEMU_VERSION}.tar"
   ]
  },
  {
   "cell_type": "code",
   "execution_count": null,
   "metadata": {
    "vscode": {
     "languageId": "shellscript"
    }
   },
   "outputs": [],
   "source": [
    "SRC='./images/'\n",
    "DEST='euler.ethz.ch:/cluster/project/beltrao/shared/alphafold3/images'\n",
    "time rsync -azv --progress $SRC $DEST"
   ]
  },
  {
   "cell_type": "code",
   "execution_count": null,
   "metadata": {
    "vscode": {
     "languageId": "shellscript"
    }
   },
   "outputs": [],
   "source": [
    "ssh -T euler.ethz.ch << EOF\n",
    "cd /cluster/project/beltrao/shared/alphafold3/images\n",
    "time singularity build boltz-${BOLTZ_VERSION}.sif docker-archive://boltz-${BOLTZ_VERSION}.tar\n",
    "EOF"
   ]
  }
 ],
 "metadata": {
  "kernelspec": {
   "display_name": "Bash",
   "language": "bash",
   "name": "bash"
  },
  "language_info": {
   "codemirror_mode": "shell",
   "file_extension": ".sh",
   "mimetype": "text/x-sh",
   "name": "bash"
  }
 },
 "nbformat": 4,
 "nbformat_minor": 2
}
